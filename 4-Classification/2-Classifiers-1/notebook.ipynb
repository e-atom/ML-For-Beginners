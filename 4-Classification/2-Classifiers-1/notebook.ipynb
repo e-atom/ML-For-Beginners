{
 "cells": [
  {
   "attachments": {},
   "cell_type": "markdown",
   "metadata": {},
   "source": [
    "# Build Classification Models"
   ]
  },
  {
   "cell_type": "code",
   "execution_count": 4,
   "metadata": {},
   "outputs": [],
   "source": [
    "import pandas as pd # for data processing\n",
    "from sklearn.linear_model import LogisticRegression # classification model\n",
    "from sklearn.model_selection import train_test_split, cross_val_score #Metrics and tools\n",
    "from sklearn.metrics import accuracy_score,precision_score,confusion_matrix,classification_report, precision_recall_curve #metrics and tools\n",
    "from sklearn.svm import SVC #SVM\n",
    "import numpy as np # for data processing"
   ]
  },
  {
   "attachments": {},
   "cell_type": "markdown",
   "metadata": {},
   "source": [
    "Lets import the data we cleaned in the previous exercise"
   ]
  },
  {
   "cell_type": "code",
   "execution_count": 5,
   "metadata": {},
   "outputs": [
    {
     "data": {
      "text/html": [
       "<div>\n",
       "<style scoped>\n",
       "    .dataframe tbody tr th:only-of-type {\n",
       "        vertical-align: middle;\n",
       "    }\n",
       "\n",
       "    .dataframe tbody tr th {\n",
       "        vertical-align: top;\n",
       "    }\n",
       "\n",
       "    .dataframe thead th {\n",
       "        text-align: right;\n",
       "    }\n",
       "</style>\n",
       "<table border=\"1\" class=\"dataframe\">\n",
       "  <thead>\n",
       "    <tr style=\"text-align: right;\">\n",
       "      <th></th>\n",
       "      <th>Unnamed: 0</th>\n",
       "      <th>cuisine</th>\n",
       "      <th>almond</th>\n",
       "      <th>angelica</th>\n",
       "      <th>anise</th>\n",
       "      <th>anise_seed</th>\n",
       "      <th>apple</th>\n",
       "      <th>apple_brandy</th>\n",
       "      <th>apricot</th>\n",
       "      <th>armagnac</th>\n",
       "      <th>...</th>\n",
       "      <th>whiskey</th>\n",
       "      <th>white_bread</th>\n",
       "      <th>white_wine</th>\n",
       "      <th>whole_grain_wheat_flour</th>\n",
       "      <th>wine</th>\n",
       "      <th>wood</th>\n",
       "      <th>yam</th>\n",
       "      <th>yeast</th>\n",
       "      <th>yogurt</th>\n",
       "      <th>zucchini</th>\n",
       "    </tr>\n",
       "  </thead>\n",
       "  <tbody>\n",
       "    <tr>\n",
       "      <th>0</th>\n",
       "      <td>0</td>\n",
       "      <td>indian</td>\n",
       "      <td>0</td>\n",
       "      <td>0</td>\n",
       "      <td>0</td>\n",
       "      <td>0</td>\n",
       "      <td>0</td>\n",
       "      <td>0</td>\n",
       "      <td>0</td>\n",
       "      <td>0</td>\n",
       "      <td>...</td>\n",
       "      <td>0</td>\n",
       "      <td>0</td>\n",
       "      <td>0</td>\n",
       "      <td>0</td>\n",
       "      <td>0</td>\n",
       "      <td>0</td>\n",
       "      <td>0</td>\n",
       "      <td>0</td>\n",
       "      <td>0</td>\n",
       "      <td>0</td>\n",
       "    </tr>\n",
       "    <tr>\n",
       "      <th>1</th>\n",
       "      <td>1</td>\n",
       "      <td>indian</td>\n",
       "      <td>1</td>\n",
       "      <td>0</td>\n",
       "      <td>0</td>\n",
       "      <td>0</td>\n",
       "      <td>0</td>\n",
       "      <td>0</td>\n",
       "      <td>0</td>\n",
       "      <td>0</td>\n",
       "      <td>...</td>\n",
       "      <td>0</td>\n",
       "      <td>0</td>\n",
       "      <td>0</td>\n",
       "      <td>0</td>\n",
       "      <td>0</td>\n",
       "      <td>0</td>\n",
       "      <td>0</td>\n",
       "      <td>0</td>\n",
       "      <td>0</td>\n",
       "      <td>0</td>\n",
       "    </tr>\n",
       "    <tr>\n",
       "      <th>2</th>\n",
       "      <td>2</td>\n",
       "      <td>indian</td>\n",
       "      <td>0</td>\n",
       "      <td>0</td>\n",
       "      <td>0</td>\n",
       "      <td>0</td>\n",
       "      <td>0</td>\n",
       "      <td>0</td>\n",
       "      <td>0</td>\n",
       "      <td>0</td>\n",
       "      <td>...</td>\n",
       "      <td>0</td>\n",
       "      <td>0</td>\n",
       "      <td>0</td>\n",
       "      <td>0</td>\n",
       "      <td>0</td>\n",
       "      <td>0</td>\n",
       "      <td>0</td>\n",
       "      <td>0</td>\n",
       "      <td>0</td>\n",
       "      <td>0</td>\n",
       "    </tr>\n",
       "    <tr>\n",
       "      <th>3</th>\n",
       "      <td>3</td>\n",
       "      <td>indian</td>\n",
       "      <td>0</td>\n",
       "      <td>0</td>\n",
       "      <td>0</td>\n",
       "      <td>0</td>\n",
       "      <td>0</td>\n",
       "      <td>0</td>\n",
       "      <td>0</td>\n",
       "      <td>0</td>\n",
       "      <td>...</td>\n",
       "      <td>0</td>\n",
       "      <td>0</td>\n",
       "      <td>0</td>\n",
       "      <td>0</td>\n",
       "      <td>0</td>\n",
       "      <td>0</td>\n",
       "      <td>0</td>\n",
       "      <td>0</td>\n",
       "      <td>0</td>\n",
       "      <td>0</td>\n",
       "    </tr>\n",
       "    <tr>\n",
       "      <th>4</th>\n",
       "      <td>4</td>\n",
       "      <td>indian</td>\n",
       "      <td>0</td>\n",
       "      <td>0</td>\n",
       "      <td>0</td>\n",
       "      <td>0</td>\n",
       "      <td>0</td>\n",
       "      <td>0</td>\n",
       "      <td>0</td>\n",
       "      <td>0</td>\n",
       "      <td>...</td>\n",
       "      <td>0</td>\n",
       "      <td>0</td>\n",
       "      <td>0</td>\n",
       "      <td>0</td>\n",
       "      <td>0</td>\n",
       "      <td>0</td>\n",
       "      <td>0</td>\n",
       "      <td>0</td>\n",
       "      <td>1</td>\n",
       "      <td>0</td>\n",
       "    </tr>\n",
       "  </tbody>\n",
       "</table>\n",
       "<p>5 rows × 382 columns</p>\n",
       "</div>"
      ],
      "text/plain": [
       "   Unnamed: 0 cuisine  almond  angelica  anise  anise_seed  apple  \\\n",
       "0           0  indian       0         0      0           0      0   \n",
       "1           1  indian       1         0      0           0      0   \n",
       "2           2  indian       0         0      0           0      0   \n",
       "3           3  indian       0         0      0           0      0   \n",
       "4           4  indian       0         0      0           0      0   \n",
       "\n",
       "   apple_brandy  apricot  armagnac  ...  whiskey  white_bread  white_wine  \\\n",
       "0             0        0         0  ...        0            0           0   \n",
       "1             0        0         0  ...        0            0           0   \n",
       "2             0        0         0  ...        0            0           0   \n",
       "3             0        0         0  ...        0            0           0   \n",
       "4             0        0         0  ...        0            0           0   \n",
       "\n",
       "   whole_grain_wheat_flour  wine  wood  yam  yeast  yogurt  zucchini  \n",
       "0                        0     0     0    0      0       0         0  \n",
       "1                        0     0     0    0      0       0         0  \n",
       "2                        0     0     0    0      0       0         0  \n",
       "3                        0     0     0    0      0       0         0  \n",
       "4                        0     0     0    0      0       1         0  \n",
       "\n",
       "[5 rows x 382 columns]"
      ]
     },
     "execution_count": 5,
     "metadata": {},
     "output_type": "execute_result"
    }
   ],
   "source": [
    "df=pd.read_csv('../data/cleaned_cuisines.csv')\n",
    "df.head()"
   ]
  },
  {
   "attachments": {},
   "cell_type": "markdown",
   "metadata": {},
   "source": [
    "Let us prepare the data for the classification model"
   ]
  },
  {
   "cell_type": "code",
   "execution_count": 7,
   "metadata": {},
   "outputs": [
    {
     "name": "stdout",
     "output_type": "stream",
     "text": [
      "0    indian\n",
      "1    indian\n",
      "2    indian\n",
      "3    indian\n",
      "4    indian\n",
      "Name: cuisine, dtype: object\n",
      "   almond  angelica  anise  anise_seed  apple  apple_brandy  apricot  \\\n",
      "0       0         0      0           0      0             0        0   \n",
      "1       1         0      0           0      0             0        0   \n",
      "2       0         0      0           0      0             0        0   \n",
      "3       0         0      0           0      0             0        0   \n",
      "4       0         0      0           0      0             0        0   \n",
      "\n",
      "   armagnac  artemisia  artichoke  ...  whiskey  white_bread  white_wine  \\\n",
      "0         0          0          0  ...        0            0           0   \n",
      "1         0          0          0  ...        0            0           0   \n",
      "2         0          0          0  ...        0            0           0   \n",
      "3         0          0          0  ...        0            0           0   \n",
      "4         0          0          0  ...        0            0           0   \n",
      "\n",
      "   whole_grain_wheat_flour  wine  wood  yam  yeast  yogurt  zucchini  \n",
      "0                        0     0     0    0      0       0         0  \n",
      "1                        0     0     0    0      0       0         0  \n",
      "2                        0     0     0    0      0       0         0  \n",
      "3                        0     0     0    0      0       0         0  \n",
      "4                        0     0     0    0      0       1         0  \n",
      "\n",
      "[5 rows x 380 columns]\n"
     ]
    }
   ],
   "source": [
    "labels_df = df.cuisine\n",
    "features_df = df.drop(['Unnamed: 0','cuisine'],axis=1)\n",
    "print(labels_df.head())\n",
    "print(features_df.head())"
   ]
  },
  {
   "attachments": {},
   "cell_type": "markdown",
   "metadata": {},
   "source": [
    "## Choosing the right classifier\n",
    "\n",
    "There are many different type of classifier models out there, as there are many different ways to train and classify the data. It really all depends on what you are trying to do.\n",
    "\n",
    "Let us try to understand which classifier is useful for this dataset:\n",
    "<ul>\n",
    "<li><font color='aqua'>Do we have a lot of data? </font> 799 observations is not a lot of data, so neural network is too heavy</li>\n",
    "<li><font color='aqua'>Is it a two classifer problem ? </font> No, this data is not a two classifier problem, so we dont need to use One vs All classifier </li>\n",
    "<li><font color='aqua'> Are we building ranks for this classifer? </font> No, this is data is not being ranked, so we dont need a multiclass boosted decision tree algorithm </li>\n",
    "<li><font color='aqua'> Are we trying to solve this classification using decision trees? </font> Yes, a logistic regression tree could work.\n",
    "</ul>\n",
    "\n",
    "## Logistic Regression\n",
    "So we have chosen the logistic regression for our multiclass problem, and will be using Scikit learn for this. However, does the logistic regression really match for multiclass problem. Logistic regression is used for binary classification which takes two classes. Therefore, directly, we cannot use logistic regression for multiclass problem. This is where heurstic methods come in that we set in the multiclass parameter.\n",
    "The following heurstic methods are:\n",
    "\n",
    "<ul>\n",
    "<li><font color='aqua'>One vs Rest (ovr): </font> it involves in splitting the multiclass problem into multiple binary class problem. A binary classifier is then trained on each binary classification problem and predictions are made using the model that is the most confident. Given three class 'shirt', 'pants' and 'jacket', the 3 binary class problem would be:</li>\n",
    "<ul>\n",
    "<li> shirt vs [pants,jacket] </li>\n",
    "<li> pants vs [shirt,jacket] </li>\n",
    "<li> jacket vs [shirt,pants] </li>\n",
    "</ul>\n",
    "<li><font color='aqua'>One vs One (ovo): </font> It involves in splitting the multiclass problem into multiple binary class problem. However, the difference here is that it will be trained on one by one binary class. Given four class 'shirt', 'pants', 'cap', and 'jacket', the binary problem would be 6 different binary class problems: </li> \n",
    "<ul>\n",
    "<li> shirt vs pants </li>\n",
    "<li> shirt vs jacket</li>\n",
    "<li> shirt vs cap </li>\n",
    "<li> pants vs jacket</li>\n",
    "<li> pants vs cap </li>\n",
    "<li> cap vs jacket</li>\n",
    "</ul>\n",
    "<li><font color='aqua'>Cross Entropy: </font> It involves in determining the loss function when you quantify the difference between two probabilities. \n",
    "</ul>\n",
    "\n",
    "Lets prepare the datasets:"
   ]
  },
  {
   "cell_type": "code",
   "execution_count": 8,
   "metadata": {},
   "outputs": [],
   "source": [
    "X_train,X_test,y_train,y_test = train_test_split(features_df,labels_df,test_size=0.3)\n"
   ]
  },
  {
   "cell_type": "code",
   "execution_count": 9,
   "metadata": {},
   "outputs": [
    {
     "name": "stdout",
     "output_type": "stream",
     "text": [
      "Accuracy is 0.8090075062552127\n"
     ]
    }
   ],
   "source": [
    "# deveelop the model:\n",
    "lr = LogisticRegression(multi_class='ovr',solver='liblinear')\n",
    "model = lr.fit(X_train, np.ravel(y_train)) \n",
    "\n",
    "accuracy = model.score(X_test, y_test)\n",
    "print (\"Accuracy is {}\".format(accuracy))"
   ]
  },
  {
   "cell_type": "code",
   "execution_count": 17,
   "metadata": {},
   "outputs": [
    {
     "name": "stdout",
     "output_type": "stream",
     "text": [
      "ingredients: Index(['carrot', 'egg_noodle', 'pea', 'peanut_oil', 'pork', 'scallion',\n",
      "       'sesame_oil', 'soy_sauce', 'starch'],\n",
      "      dtype='object')\n",
      "cuisine: chinese\n"
     ]
    }
   ],
   "source": [
    "print(f'ingredients: {X_test.iloc[40][X_test.iloc[40]!=0].keys()}')\n",
    "print(f'cuisine: {y_test.iloc[40]}')"
   ]
  },
  {
   "cell_type": "code",
   "execution_count": 16,
   "metadata": {},
   "outputs": [
    {
     "data": {
      "text/plain": [
       "Unnamed: 0        40\n",
       "cuisine       indian\n",
       "almond             0\n",
       "angelica           0\n",
       "anise              0\n",
       "               ...  \n",
       "wood               0\n",
       "yam                0\n",
       "yeast              0\n",
       "yogurt             0\n",
       "zucchini           0\n",
       "Name: 40, Length: 382, dtype: object"
      ]
     },
     "execution_count": 16,
     "metadata": {},
     "output_type": "execute_result"
    }
   ],
   "source": [
    "df.iloc[40]"
   ]
  }
 ],
 "metadata": {
  "kernelspec": {
   "display_name": ".venv",
   "language": "python",
   "name": "python3"
  },
  "language_info": {
   "codemirror_mode": {
    "name": "ipython",
    "version": 3
   },
   "file_extension": ".py",
   "mimetype": "text/x-python",
   "name": "python",
   "nbconvert_exporter": "python",
   "pygments_lexer": "ipython3",
   "version": "3.10.5"
  },
  "orig_nbformat": 2
 },
 "nbformat": 4,
 "nbformat_minor": 2
}
